{
 "cells": [
  {
   "cell_type": "code",
   "execution_count": 12,
   "id": "e9fdeaf5",
   "metadata": {},
   "outputs": [
    {
     "name": "stderr",
     "output_type": "stream",
     "text": [
      "C:\\Users\\27983\\AppData\\Local\\Temp/ipykernel_20508/2083546538.py:68: MatplotlibDeprecationWarning: shading='flat' when X and Y have the same dimensions as C is deprecated since 3.3.  Either specify the corners of the quadrilaterals with X and Y, or pass shading='auto', 'nearest' or 'gouraud', or set rcParams['pcolor.shading'].  This will become an error two minor releases later.\n",
      "  graph = plt.pcolormesh(\n"
     ]
    },
    {
     "data": {
      "image/png": "[encoded data removed]",
      "text/plain": [
       "<Figure size 432x288 with 2 Axes>"
      ]
     },
     "metadata": {
      "needs_background": "light"
     },
     "output_type": "display_data"
    }
   ],
   "source": [
    "import numpy as np\n",
    "import matplotlib.pyplot as plt\n",
    "import matplotlib.colors\n",
    "D = 5           # distance of screen\n",
    "\n",
    "slitWidth = 0.0001\n",
    "\n",
    "slitHeight = 0.005\n",
    "# amplitude/intensity\n",
    "\n",
    "a = 1\n",
    "# wavelength\n",
    "\n",
    "w = 0.0000006  \n",
    "\n",
    "x1 = -0.25     \n",
    "# assuming screen is a rectangle from (x1,y1) to (x2,y2)\n",
    "\n",
    "x2 = 0.25\n",
    "\n",
    "y1 = -0.025\n",
    "\n",
    "y2 = 0.025\n",
    "# linear resolution (no. of points per unit length)\n",
    "\n",
    "lres = 2000 \n",
    " \n",
    " \n",
    "# PERFORMING CALCULATIONS\n",
    "# calculations are performed using numpy arrays and array methods\n",
    "\n",
    "m, n = int((x2-x1)*lres), int((y2-y1)*lres)\n",
    " \n",
    "# Obtaining sample points on the screen -\n",
    "# X, Y and Z are mxn 2d arrays containing x coordinates, y coordinates\n",
    "# and z coordinates of the screen sample-points respectively.\n",
    "\n",
    "X = np.linspace(x1, x2, n)\n",
    "\n",
    "Y = np.linspace(y1, y2, m)\n",
    "\n",
    "X, Y = np.meshgrid(X, Y)\n",
    "\n",
    "Z = np.ones((m, n))*D\n",
    " \n",
    " \n",
    "# Dividing the slit into sample points\n",
    "X, Y = np.meshgrid(np.linspace(x1, x2, n), np.linspace(y1, y2, m))\n",
    "Z = np.ones((m, n)) * D\n",
    "xcoords = np.linspace(-slitWidth/2, slitWidth/2, 20)\n",
    "ycoords = np.linspace(-slitHeight/2, slitHeight/2, 100)\n",
    "xcoords_mesh, ycoords_mesh = np.meshgrid(xcoords, ycoords)\n",
    "L = np.sqrt((X[:,:,None,None] - xcoords_mesh[None,None,:,:])**2 + \n",
    "            (Y[:,:,None,None] - ycoords_mesh[None,None,:,:])**2 + \n",
    "            Z[:,:,None,None]**2)\n",
    "theta = (L/w) * 2 * np.pi\n",
    "A = np.sum(np.sin(theta), axis=(2,3))\n",
    "\n",
    "A = np.abs(A)\n",
    " \n",
    "#plotting\n",
    "ax = plt.axes()\n",
    "ax.set_aspect('equal')\n",
    "plt.rc('text', usetex=False) \n",
    "plt.title(\"Single Slit Diffraction Pattern Simulation\\nD = {}m, slit-width = {}m, slit-height = {}m, $\\lambda$ = {}m\".format(D, slitWidth, slitHeight, w))\n",
    "plt.xlabel(\"x-axis of screen (metres)\")\n",
    "plt.ylabel(\"y-axis (metres)\")\n",
    "graph = plt.pcolormesh(\n",
    "    X, Y, A, cmap=matplotlib.colors.LinearSegmentedColormap.from_list(\"\", ['black', 'white']))\n",
    "plt.colorbar(graph, orientation='horizontal')\n",
    "plt.show()\n",
    " "
   ]
  },
  {
   "cell_type": "code",
   "execution_count": null,
   "id": "89985c5f",
   "metadata": {},
   "outputs": [],
   "source": []
  }
 ],
 "metadata": {
  "kernelspec": {
   "display_name": "Python 3 (ipykernel)",
   "language": "python",
   "name": "python3"
  },
  "language_info": {
   "codemirror_mode": {
    "name": "ipython",
    "version": 3
   },
   "file_extension": ".py",
   "mimetype": "text/x-python",
   "name": "python",
   "nbconvert_exporter": "python",
   "pygments_lexer": "ipython3",
   "version": "3.9.7"
  }
 },
 "nbformat": 4,
 "nbformat_minor": 5
}
